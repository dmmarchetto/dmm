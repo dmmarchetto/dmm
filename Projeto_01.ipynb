{
 "cells": [
  {
   "cell_type": "code",
   "execution_count": null,
   "id": "f12d39c1",
   "metadata": {},
   "outputs": [],
   "source": [
    "data = [[66707599984, 'Conservador', (5100., 3500., 1400., 200.)],\n",
    " [55695397315, 'Conservador', (4900., 3000., 1400., 200.)],\n",
    " [63743886918, 'Conservador', (4700., 3200., 1300., 200.)],\n",
    " [55941368774, 'Conservador', (4600., 3100., 1500., 200.)],\n",
    " [75486280874, 'Conservador', (5000., 3600., 1400., 200.)],\n",
    " [53164949799, 'Conservador', (5400., 3900., 1700., 400.)],\n",
    " [39898704131, 'Conservador', (4600., 3400., 1400., 300.)],\n",
    " [53740901207, 'Conservador', (5000., 3400., 1500., 200.)],\n",
    " [51735950236, 'Conservador', (4400., 2900., 1400., 200.)],\n",
    " [47305108951, 'Conservador', (4900., 3100., 1500., 100.)],\n",
    " [63858864633, 'Conservador', (5400., 3700., 1500., 200.)],\n",
    " [53363167240, 'Conservador', (4800., 3400., 1600., 200.)],\n",
    " [72133754195, 'Conservador', (4800., 3000., 1400., 100.)],\n",
    " [52802483512, 'Conservador', (4300., 3000., 1100., 100.)],\n",
    " [57925287214, 'Conservador', (4800., 3400., 1900., 200.)],\n",
    " [74354632224, 'Conservador', (5000., 3000., 1600., 200.)],\n",
    " [64020216626, 'Conservador', (5000., 3400., 1600., 400.)],\n",
    " [78223722856, 'Conservador', (5200., 3500., 1500., 200.)],\n",
    " [58245228846, 'Conservador', (5200., 3400., 1400., 200.)],\n",
    " [74490686776, 'Conservador', (4700., 3200., 1600., 200.)],\n",
    " [48646824781, 'Conservador', (4800., 3100., 1600., 200.)],\n",
    " [77381458676, 'Conservador', (5400., 3400., 1500., 400.)],\n",
    " [41615431874, 'Conservador', (5200., 4100., 1500., 100.)],\n",
    " [52163844491, 'Conservador', (5500., 4200., 1400., 200.)],\n",
    " [70276304567, 'Conservador', (4900., 3100., 1500., 200.)],\n",
    " [69119828185, 'Conservador', (5000., 3200., 1200., 200.)],\n",
    " [65441690046, 'Conservador', (5500., 3500., 1300., 200.)],\n",
    " [56457227894, 'Conservador', (4900., 3600., 1400., 100.)],\n",
    " [46939428126, 'Conservador', (4400., 3000., 1300., 200.)],\n",
    " [60979942480, 'Conservador', (5100., 3400., 1500., 200.)],\n",
    " [41648583220, 'Conservador', (5000., 3500., 1300., 300.)],\n",
    " [50376331791, 'Conservador', (4500., 2300., 1300., 300.)],\n",
    " [67008801023, 'Conservador', (4400., 3200., 1300., 200.)],\n",
    " [72149193419, 'Conservador', (5000., 3500., 1600., 600.)],\n",
    " [62830733382, 'Conservador', (5100., 3800., 1900., 400.)],\n",
    " [56716675811, 'Conservador', (4800., 3000., 1400., 300.)],\n",
    " [61089667146, 'Conservador', (5100., 3800., 1600., 200.)],\n",
    " [47795509468, 'Conservador', (4600., 3200., 1400., 200.)],\n",
    " [60899885693, 'Conservador', (5300., 3700., 1500., 200.)],\n",
    " [53433670705, 'Conservador', (5000., 3300., 1400., 200.)],\n",
    " [54850120580, 'Moderado', (7000., 3200., 4700., 1400.)],\n",
    " [71457789994, 'Moderado', (6400., 3200., 4500., 1500.)],\n",
    " [67692777563, 'Moderado', (6900., 3100., 4900., 1500.)],\n",
    " [43133573182, 'Moderado', (5500., 2300., 4000., 1300.)],\n",
    " [55150612815, 'Moderado', (6500., 2800., 4600., 1500.)],\n",
    " [48211725243, 'Moderado', (5700., 2800., 4500., 1300.)],\n",
    " [76686463776, 'Moderado', (6300., 3300., 4700., 1600.)],\n",
    " [71971000560, 'Moderado', (4900., 2400., 3300., 1000.)],\n",
    " [40307235992, 'Moderado', (6600., 2900., 4600., 1300.)],\n",
    " [44826533081, 'Moderado', (5200., 2700., 3900., 1400.)],\n",
    " [45735414894, 'Moderado', (5900., 3200., 4800., 1800.)],\n",
    " [57137146514, 'Moderado', (6100., 2800., 4000., 1300.)],\n",
    " [53657058251, 'Moderado', (6300., 2500., 4900., 1500.)],\n",
    " [52941460485, 'Moderado', (6100., 2800., 4700., 1200.)],\n",
    " [44306600683, 'Moderado', (6400., 2900., 4300., 1300.)],\n",
    " [43460747924, 'Moderado', (6600., 3000., 4400., 1400.)],\n",
    " [75590376075, 'Moderado', (6800., 2800., 4800., 1400.)],\n",
    " [68267282206, 'Moderado', (6700., 3000., 5000., 1700.)],\n",
    " [77567920298, 'Moderado', (6000., 2900., 4500., 1500.)],\n",
    " [67600419504, 'Moderado', (5700., 2600., 3500., 1000.)],\n",
    " [44902189811, 'Moderado', (5500., 2400., 3800., 1100.)],\n",
    " [62966866614, 'Moderado', (5500., 2400., 3700., 1000.)],\n",
    " [56182108880, 'Moderado', (5800., 2700., 3900., 1200.)],\n",
    " [78299785392, 'Moderado', (6000., 2700., 5100., 1600.)],\n",
    " [45206071878, 'Moderado', (5400., 3000., 4500., 1500.)],\n",
    " [57381925887, 'Moderado', (6000., 3400., 4500., 1600.)],\n",
    " [65654934891, 'Moderado', (6700., 3100., 4700., 1500.)],\n",
    " [56130640481, 'Moderado', (6300., 2300., 4400., 1300.)],\n",
    " [59667611672, 'Moderado', (5600., 3000., 4100., 1300.)],\n",
    " [40349334385, 'Moderado', (5500., 2500., 4000., 1300.)],\n",
    " [68422640081, 'Moderado', (5500., 2600., 4400., 1200.)],\n",
    " [55245923439, 'Moderado', (6100., 3000., 4600., 1400.)],\n",
    " [51286696873, 'Moderado', (5800., 2600., 4000., 1200.)],\n",
    " [41065279767, 'Moderado', (5000., 2300., 3300., 1000.)],\n",
    " [42866454119, 'Moderado', (5600., 2700., 4200., 1300.)],\n",
    " [61962944542, 'Moderado', (5700., 3000., 4200., 1200.)],\n",
    " [48623501235, 'Moderado', (5700., 2900., 4200., 1300.)],\n",
    " [49475220139, 'Moderado', (6200., 2900., 4300., 1300.)],\n",
    " [52245218531, 'Moderado', (5100., 2500., 3000., 1100.)],\n",
    " [50932926697, 'Moderado', (5700., 2800., 4100., 1300.)],\n",
    " [47432932248, 'Agressivo', (6300., 3300., 6000., 2500.)],\n",
    " [39321991579, 'Agressivo', (5800., 2700., 5100., 1900.)],\n",
    " [46283759608, 'Agressivo', (7100., 3000., 5900., 2100.)],\n",
    " [56996272538, 'Agressivo', (6300., 2900., 5600., 1800.)],\n",
    " [77232189978, 'Agressivo', (6500., 3000., 5800., 2200.)],\n",
    " [77183282421, 'Agressivo', (7600., 3000., 6600., 2100.)],\n",
    " [42857147573, 'Agressivo', (4900., 2500., 4500., 1700.)],\n",
    " [39331584043, 'Agressivo', (7300., 2900., 6300., 1800.)],\n",
    " [48130345228, 'Agressivo', (6700., 2500., 5800., 1800.)],\n",
    " [71422443953, 'Agressivo', (7200., 3600., 6100., 2500.)],\n",
    " [72508507904, 'Agressivo', (6900., 3200., 5700., 2300.)],\n",
    " [41188727558, 'Agressivo', (5600., 2800., 4900., 2000.)],\n",
    " [61358776640, 'Agressivo', (7700., 2800., 6700., 2000.)],\n",
    " [66934042323, 'Agressivo', (6300., 2700., 4900., 1800.)],\n",
    " [40622495567, 'Agressivo', (6700., 3300., 5700., 2100.)],\n",
    " [57221661311, 'Agressivo', (7200., 3200., 6000., 1800.)],\n",
    " [45159362930, 'Agressivo', (6200., 2800., 4800., 1800.)],\n",
    " [45018975174, 'Agressivo', (6100., 3000., 4900., 1800.)],\n",
    " [70685429140, 'Agressivo', (6400., 2800., 5600., 2100.)],\n",
    " [61808723477, 'Agressivo', (7200., 3000., 5800., 1600.)],\n",
    " [56363906548, 'Agressivo', (7400., 2800., 6100., 1900.)],\n",
    " [39646194720, 'Agressivo', (7900., 3800., 6400., 2000.)],\n",
    " [55385494438, 'Agressivo', (6400., 2800., 5600., 2200.)],\n",
    " [75796138061, 'Agressivo', (6300., 2800., 5100., 1500.)],\n",
    " [53595767857, 'Agressivo', (6100., 2600., 5600., 1400.)],\n",
    " [48758828080, 'Agressivo', (7700., 3000., 6100., 2300.)],\n",
    " [58387651356, 'Agressivo', (6300., 3400., 5600., 2400.)],\n",
    " [72846931192, 'Agressivo', (6400., 3100., 5500., 1800.)],\n",
    " [47046896346, 'Agressivo', (6000., 3000., 4800., 1800.)],\n",
    " [69730292799, 'Agressivo', (6900., 3100., 5400., 2100.)],\n",
    " [48177836349, 'Agressivo', (6700., 3100., 5600., 2400.)],\n",
    " [57976326635, 'Agressivo', (6900., 3100., 5100., 2300.)],\n",
    " [55710813002, 'Agressivo', (5800., 2700., 5100., 1900.)],\n",
    " [64028580439, 'Agressivo', (6800., 3200., 5900., 2300.)],\n",
    " [49962942971, 'Agressivo', (6700., 3300., 5700., 2500.)],\n",
    " [47250893163, 'Agressivo', (6700., 3000., 5200., 2300.)],\n",
    " [75559276274, 'Agressivo', (6300., 2500., 5000., 1900.)],\n",
    " [58529878272, 'Agressivo', (6500., 3000., 5200., 2000.)],\n",
    " [76005896622, 'Agressivo', (6200., 3400., 5400., 2300.)],\n",
    " [49212614633, 'Agressivo', (5900., 3000., 5100., 1800.)]]"
   ]
  },
  {
   "cell_type": "code",
   "execution_count": null,
   "id": "eeb728d4",
   "metadata": {},
   "outputs": [],
   "source": [
    "no_class = [[45926320819, '', (5800., 4000., 1200., 200.)],\n",
    " [52559670741, '', (5700., 4400., 1500., 400.)],\n",
    " [59016004832, '', (5400., 3900., 1300., 400.)],\n",
    " [66175672425, '', (5100., 3500., 1400., 300.)],\n",
    " [53330429526, '', (5700., 3800., 1700., 300.)],\n",
    " [43765563403, '', (5100., 3800., 1500., 300.)],\n",
    " [68020822591, '', (5400., 3400., 1700., 200.)],\n",
    " [53939481689, '', (5100., 3700., 1500., 400.)],\n",
    " [47014057561, '', (4600., 3600., 1000., 200.)],\n",
    " [57183542047, '', (5100., 3300., 1700., 500.)],\n",
    "            \n",
    " [68518284363, '', (5000., 2000., 3500., 1000.)],\n",
    " [65806049885, '', (5900., 3000., 4200., 1500.)],\n",
    " [54128073086, '', (6000., 2200., 4000., 1000.)],\n",
    " [41306785494, '', (6100., 2900., 4700., 1400.)],\n",
    " [65234831039, '', (5600., 2900., 3600., 1300.)],\n",
    " [50964498067, '', (6700., 3100., 4400., 1400.)],\n",
    " [50810951429, '', (5600., 3000., 4500., 1500.)],\n",
    " [48765044397, '', (5800., 2700., 4100., 1000.)],\n",
    " [41960083761, '', (6200., 2200., 4500., 1500.)],\n",
    " [76657763082, '', (5600., 2500., 3900., 1100.)],\n",
    "            \n",
    " [64726487742, '', (6500., 3200., 5100., 2000.)],\n",
    " [75746566283, '', (6400., 2700., 5300., 1900.)],\n",
    " [78576734793, '', (6800., 3000., 5500., 2100.)],\n",
    " [56440141847, '', (5700., 2500., 5000., 2000.)],\n",
    " [66827423000, '', (5800., 2800., 5100., 2400.)],\n",
    " [45267873396, '', (6400., 3200., 5300., 2300.)],\n",
    " [46387191493, '', (6500., 3000., 5500., 1800.)],\n",
    " [54273611732, '', (7700., 3800., 6700., 2200.)],\n",
    " [75135392881, '', (7700., 2600., 6900., 2300.)],\n",
    " [64703873108, '', (6000., 2200., 5000., 1500.)]]"
   ]
  },
  {
   "cell_type": "markdown",
   "id": "7ca89224",
   "metadata": {},
   "source": [
    "### *Dados do projeto estão acima*"
   ]
  },
  {
   "cell_type": "markdown",
   "id": "379d1789",
   "metadata": {},
   "source": [
    "# Abaixo: um fluxograma geral do projeto"
   ]
  },
  {
   "cell_type": "markdown",
   "id": "dd031634",
   "metadata": {},
   "source": [
    "## Iniciando um fluxograma baseado no passo a passo do enunciado"
   ]
  },
  {
   "cell_type": "markdown",
   "id": "8bdc9535",
   "metadata": {},
   "source": [
    "- **Passo 1**: Definir um valor para K"
   ]
  },
  {
   "cell_type": "markdown",
   "id": "f7961c55",
   "metadata": {},
   "source": [
    "valor_k = 3"
   ]
  },
  {
   "cell_type": "markdown",
   "id": "a152061e",
   "metadata": {},
   "source": [
    "- **Passo 2**: Definir os K vizinhos mais próximos do ponto a ser classificado de acordo com uma função de distância."
   ]
  },
  {
   "cell_type": "markdown",
   "id": "25bb83a3",
   "metadata": {},
   "source": [
    "def distancia(data, no_class):\n",
    "    pass"
   ]
  },
  {
   "cell_type": "markdown",
   "id": "b2c22454",
   "metadata": {},
   "source": [
    "- **Passo 3**:\n",
    "    - Se for um problema de **Regressão**:\n",
    "        Calcular a **média** de todos os vizinhos.\n",
    "    - Se for um problema de **Classificação**:\n",
    "        Calcular a **moda** de todos os vizinhos."
   ]
  },
  {
   "cell_type": "markdown",
   "id": "e0b98b5e",
   "metadata": {},
   "source": [
    "def moda(lista_dist, valor_de_k):\n",
    "    pass"
   ]
  },
  {
   "cell_type": "markdown",
   "id": "edb65245",
   "metadata": {},
   "source": [
    "- **Passo 4**:\n",
    "    Atribuir o valor/classe ao ponto de interesse conforme cálculo do Passo 3."
   ]
  },
  {
   "cell_type": "markdown",
   "id": "f66cbfc5",
   "metadata": {},
   "source": [
    "def atribuicao(lista_dist_com_k_valores):\n",
    "    pass"
   ]
  },
  {
   "cell_type": "markdown",
   "id": "6be30390",
   "metadata": {},
   "source": [
    "- **Passo 5**:\n",
    "    Criar um dicionário com todos CPFs/classificação do no_class."
   ]
  },
  {
   "cell_type": "markdown",
   "id": "7f008807",
   "metadata": {},
   "source": [
    "Vou me basear no fluxograma da imagem criada."
   ]
  },
  {
   "cell_type": "code",
   "execution_count": null,
   "id": "982022c1",
   "metadata": {},
   "outputs": [],
   "source": [
    "# Etapa (2): Valor de K = 3\n",
    "valor_k = 3  "
   ]
  },
  {
   "cell_type": "code",
   "execution_count": null,
   "id": "e110d638",
   "metadata": {},
   "outputs": [],
   "source": [
    "# Etapa (3): Calcula-se o valor das n distâncias (120) dos pontos já treinados\n",
    "\n",
    "# Criando a função\n",
    "def calc_dist(treinado, nao_treinado):\n",
    "    # Baseando-se nas nomenclaturas que a Renata sugeriu:\n",
    "    x1, y1, z1, t1 = treinado[2]\n",
    "    x2, y2, z2, t2 = nao_treinado[2]\n",
    "    lista_aux = [x2-x1, y2-y1, z2-z1, t2-t1]\n",
    "    for indice in range(len(lista_aux)):\n",
    "        lista_aux[indice] = (lista_aux[indice] ** 2)\n",
    "    distancia = (sum(lista_aux) ** 0.5)\n",
    "    return distancia\n",
    "\n",
    "# Loop para capturar todas as n=120 distâncias de um dado de no_class\n",
    "lista_dist = list()\n",
    "for dado in data:\n",
    "    distancia = calc_dist(dado, no_class[0])\n",
    "    lista_dist.append(distancia)    "
   ]
  },
  {
   "cell_type": "code",
   "execution_count": null,
   "id": "4c37674c",
   "metadata": {},
   "outputs": [],
   "source": [
    "# Etapa (4): Recolhe-se os K menores valores das distâncias\n",
    "\n",
    "# Para tirar os menores valores, vamos dar enumerate e criar uma nova lista\n",
    "# com as distâncias como primeiro item justamente para dar sort!!!!\n",
    "lista_numerada = list()\n",
    "for indice, distancia in enumerate(lista_dist):\n",
    "    lista_numerada.append([distancia, indice])\n",
    "lista_numerada.sort()\n",
    "lista_numerada = lista_numerada[:valor_k]\n",
    "print(lista_numerada)"
   ]
  },
  {
   "cell_type": "code",
   "execution_count": null,
   "id": "7367cd0a",
   "metadata": {},
   "outputs": [],
   "source": [
    "# Etapa (5): Observa-se qual a maior quantidade de 'Agressivo', 'Moderado' ou 'Conservador' \n",
    "# e classifica o CPF\n",
    "\n",
    "lista_class = list()\n",
    "for distancia, indice in lista_numerada:\n",
    "    lista_class.append(data[indice][1])\n",
    "print(lista_class)\n",
    "\n",
    "# Criando função para verificar a classificação do CPF\n",
    "def classificacao(lista_para_classificar):\n",
    "    lista_base = [[0, 'Conservador'], [0, 'Moderado'], [0, 'Agressivo']]\n",
    "    for identificacao in lista_para_classificar:\n",
    "        if identificacao == 'Conservador':\n",
    "            lista_base[0][0] = lista_base[0][0] + 1\n",
    "        elif identificacao == 'Moderado':\n",
    "            lista_base[1][0] = lista_base[1][0] + 1\n",
    "        elif identificacao == 'Agressivo':\n",
    "            lista_base[2][0] = lista_base[2][0] + 1\n",
    "    lista_base.sort(reverse=True)\n",
    "    return lista_base[0][1]"
   ]
  },
  {
   "cell_type": "code",
   "execution_count": null,
   "id": "5865d1fe",
   "metadata": {},
   "outputs": [],
   "source": [
    "# Etapa (6): Classificou-se todos os dados de no_class?\n",
    "dicionario_noclass[no_class[0][0]] = classificacao(lista_class)\n",
    "\n",
    "dicionario_noclass"
   ]
  },
  {
   "cell_type": "code",
   "execution_count": null,
   "id": "957d2976",
   "metadata": {},
   "outputs": [],
   "source": [
    "### Ok, temos da Etapa(1) até Etapa (6) o exemplo de como classificar o primeiro termo de  no_class, contudo, temos que rodar os 30 dados!!!! E agora???\n",
    "\n",
    "## Vamos tentar juntar tudo e rodar um for com os dados de no_class....\n",
    "\n",
    "# ************************************************************************************************************\n",
    "# ************************ Colocar as funções nesta célula ************************************\n",
    "# ************************************************************************************************************\n"
   ]
  },
  {
   "cell_type": "code",
   "execution_count": null,
   "id": "76cae5cc",
   "metadata": {},
   "outputs": [],
   "source": [
    "# Criando a função para distância (Etapa 3)\n",
    "def calc_dist(treinado, nao_treinado):\n",
    "    # Baseando-se nas nomenclaturas que a Renata sugeriu:\n",
    "    x1, y1, z1, t1 = treinado[2]\n",
    "    x2, y2, z2, t2 = nao_treinado[2]\n",
    "    lista_aux = [x2-x1, y2-y1, z2-z1, t2-t1]\n",
    "    for indice in range(len(lista_aux)):\n",
    "        lista_aux[indice] = (lista_aux[indice] ** 2)\n",
    "    distancia = (sum(lista_aux) ** 0.5)\n",
    "    return distancia"
   ]
  },
  {
   "cell_type": "code",
   "execution_count": null,
   "id": "0cdad871",
   "metadata": {},
   "outputs": [],
   "source": [
    "# Para tirar os menores valores, vamos dar enumerate e criar uma nova lista\n",
    "# com as distâncias como primeiro item justamente para dar sort!!!!\n",
    "# Criando função para numerar a lista, deixar as menores distâncias no comecinho da lista,\n",
    "# e permanecendo apenas os \"K\" valores (Etapa 4)\n",
    "def manter_k_valores(lista_distancias, valor_de_k):\n",
    "    lista_numerada = list()\n",
    "    for indice, distancia in enumerate(lista_distancias):\n",
    "        lista_numerada.append([distancia, indice])\n",
    "    lista_numerada.sort()\n",
    "    lista_numerada = lista_numerada[:valor_de_k]\n",
    "    return lista_numerada"
   ]
  },
  {
   "cell_type": "code",
   "execution_count": null,
   "id": "1b9508f4",
   "metadata": {},
   "outputs": [],
   "source": [
    "# Criando função para verificar a classificação do CPF (Etapa 5)\n",
    "def classificacao(lista_para_classificar):\n",
    "    lista_base = [[0, 'Conservador'], [0, 'Moderado'], [0, 'Agressivo']]\n",
    "    for identificacao in lista_para_classificar:\n",
    "        if identificacao == 'Conservador':\n",
    "            lista_base[0][0] = lista_base[0][0] + 1\n",
    "        elif identificacao == 'Moderado':\n",
    "            lista_base[1][0] = lista_base[1][0] + 1\n",
    "        elif identificacao == 'Agressivo':\n",
    "            lista_base[2][0] = lista_base[2][0] + 1\n",
    "    lista_base.sort(reverse=True)\n",
    "    return lista_base[0][1]"
   ]
  },
  {
   "cell_type": "code",
   "execution_count": null,
   "id": "7c946088",
   "metadata": {},
   "outputs": [],
   "source": [
    "# Etapa (2): Valor de K = 3\n",
    "valor_k = 3"
   ]
  },
  {
   "cell_type": "code",
   "execution_count": null,
   "id": "cae682da",
   "metadata": {},
   "outputs": [],
   "source": [
    "# Etapa (3): Calcula-se o valor das n distâncias (120) dos pontos já treinados\n",
    "\n",
    "# Loop para capturar os dados para os 30 pontos de no_class\n",
    "for no_dado in no_class:\n",
    "    # Loop para capturar todas as n=120 distâncias de um dado de no_class\n",
    "    lista_dist = list()\n",
    "    for dado in data:\n",
    "        distancia = calc_dist(dado, no_dado)\n",
    "        lista_dist.append(distancia)    "
   ]
  },
  {
   "cell_type": "code",
   "execution_count": null,
   "id": "eeecd809",
   "metadata": {},
   "outputs": [],
   "source": [
    " # Etapa (4): Recolhe-se os K menores valores das distâncias\n",
    "        lista_numerada = manter_k_valores(lista_dist, valor_k)\n",
    "    #print(lista_numerada)\n",
    "    print(lista_numerada)"
   ]
  },
  {
   "cell_type": "code",
   "execution_count": null,
   "id": "a7e7f3bf",
   "metadata": {},
   "outputs": [],
   "source": [
    "# Etapa (5): Observa-se qual a maior quantidade de 'Agressivo', 'Moderado' ou 'Conservador' \n",
    "    # e classifica o CPF\n",
    "        lista_class = list()\n",
    "        for distancia, indice in lista_numerada:\n",
    "            lista_class.append(data[indice][1])\n",
    "    #print(lista_class)\n",
    "    print(lista_class)"
   ]
  },
  {
   "cell_type": "code",
   "execution_count": null,
   "id": "aba0cf7d",
   "metadata": {},
   "outputs": [],
   "source": [
    "# Etapa (6): Classificou-se todos os dados de no_class?\n",
    "    dicionario_noclass[no_dado[0]] = classificacao(lista_class)\n",
    "\n",
    "dicionario_noclass"
   ]
  }
 ],
 "metadata": {
  "kernelspec": {
   "display_name": "Python 3",
   "language": "python",
   "name": "python3"
  },
  "language_info": {
   "codemirror_mode": {
    "name": "ipython",
    "version": 3
   },
   "file_extension": ".py",
   "mimetype": "text/x-python",
   "name": "python",
   "nbconvert_exporter": "python",
   "pygments_lexer": "ipython3",
   "version": "3.8.8"
  }
 },
 "nbformat": 4,
 "nbformat_minor": 5
}
